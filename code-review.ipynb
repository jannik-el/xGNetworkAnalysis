{
 "cells": [
  {
   "cell_type": "code",
   "execution_count": 6,
   "metadata": {},
   "outputs": [],
   "source": [
    "import sys\n",
    "sys.path.insert(0, 'fx.py')\n",
    "import warnings\n",
    "warnings.simplefilter(action='ignore', category=Warning)\n"
   ]
  },
  {
   "cell_type": "code",
   "execution_count": 7,
   "metadata": {},
   "outputs": [],
   "source": [
    "import fx"
   ]
  },
  {
   "cell_type": "code",
   "execution_count": 8,
   "metadata": {},
   "outputs": [
    {
     "name": "stderr",
     "output_type": "stream",
     "text": [
      "100%|██████████| 10/10 [00:00<00:00, 54.20it/s]\n"
     ]
    }
   ],
   "source": [
    "match_ids = fx.ReturnMatchID_List()"
   ]
  },
  {
   "cell_type": "code",
   "execution_count": 10,
   "metadata": {},
   "outputs": [
    {
     "name": "stderr",
     "output_type": "stream",
     "text": [
      "  0%|▏                                                         | 5/1242 [11:13<46:18:15, 134.76s/it]\n"
     ]
    },
    {
     "ename": "KeyboardInterrupt",
     "evalue": "",
     "output_type": "error",
     "traceback": [
      "\u001b[0;31m---------------------------------------------------------------------------\u001b[0m",
      "\u001b[0;31mKeyboardInterrupt\u001b[0m                         Traceback (most recent call last)",
      "Cell \u001b[0;32mIn[10], line 1\u001b[0m\n\u001b[0;32m----> 1\u001b[0m fx\u001b[39m.\u001b[39;49mSplitAllGames(\u001b[39m7\u001b[39;49m, match_ids, \u001b[39m\"\u001b[39;49m\u001b[39mtesting.csv\u001b[39;49m\u001b[39m\"\u001b[39;49m)\n",
      "File \u001b[0;32m/mnt/c/Users/janni/OneDrive - ITU/Documents/UNI/3Semester/NS/xGNetworkAnalysis/fx.py:434\u001b[0m, in \u001b[0;36mSplitAllGames\u001b[0;34m(min_event_time, match_ids, filename)\u001b[0m\n\u001b[1;32m    431\u001b[0m data \u001b[39m=\u001b[39m []\n\u001b[1;32m    432\u001b[0m \u001b[39mfor\u001b[39;00m i, j \u001b[39min\u001b[39;00m \u001b[39menumerate\u001b[39m(tqdm(match_ids, ncols\u001b[39m=\u001b[39m\u001b[39m100\u001b[39m)):\n\u001b[0;32m--> 434\u001b[0m     events_df \u001b[39m=\u001b[39m CreateEventsDF(j)\n\u001b[1;32m    435\u001b[0m     intervals \u001b[39m=\u001b[39m SplitEvents(events_df, min_event_time)\n\u001b[1;32m    437\u001b[0m     teams \u001b[39m=\u001b[39m [events_df[\u001b[39m\"\u001b[39m\u001b[39mteam\u001b[39m\u001b[39m\"\u001b[39m]\u001b[39m.\u001b[39munique()[\u001b[39m0\u001b[39m], events_df[\u001b[39m\"\u001b[39m\u001b[39mteam\u001b[39m\u001b[39m\"\u001b[39m]\u001b[39m.\u001b[39munique()[\u001b[39m1\u001b[39m]]\n",
      "File \u001b[0;32m/mnt/c/Users/janni/OneDrive - ITU/Documents/UNI/3Semester/NS/xGNetworkAnalysis/fx.py:105\u001b[0m, in \u001b[0;36mCreateEventsDF\u001b[0;34m(match_id)\u001b[0m\n\u001b[1;32m    100\u001b[0m \u001b[39mdef\u001b[39;00m \u001b[39mCreateEventsDF\u001b[39m(match_id):\n\u001b[1;32m    101\u001b[0m     \u001b[39m\"\"\"\u001b[39;00m\n\u001b[1;32m    102\u001b[0m \u001b[39m    Takes: match_id (int)\u001b[39;00m\n\u001b[1;32m    103\u001b[0m \u001b[39m    Returns: events (a pandas DF)\u001b[39;00m\n\u001b[1;32m    104\u001b[0m \u001b[39m    \"\"\"\u001b[39;00m\n\u001b[0;32m--> 105\u001b[0m     \u001b[39mreturn\u001b[39;00m sb\u001b[39m.\u001b[39;49mevents(match_id)\n",
      "File \u001b[0;32m~/anaconda3/envs/xGNetworkAnalysis-ENV01/lib/python3.8/site-packages/statsbombpy/sb.py:103\u001b[0m, in \u001b[0;36mevents\u001b[0;34m(match_id, split, filters, fmt, flatten_attrs, creds)\u001b[0m\n\u001b[1;32m    100\u001b[0m     events \u001b[39m=\u001b[39m public\u001b[39m.\u001b[39mevents(match_id)\n\u001b[1;32m    102\u001b[0m \u001b[39mif\u001b[39;00m fmt \u001b[39m==\u001b[39m \u001b[39m\"\u001b[39m\u001b[39mdataframe\u001b[39m\u001b[39m\"\u001b[39m:\n\u001b[0;32m--> 103\u001b[0m     events \u001b[39m=\u001b[39m filter_and_group_events(events, filters, fmt, flatten_attrs)\n\u001b[1;32m    104\u001b[0m     \u001b[39mfor\u001b[39;00m ev_type, evs \u001b[39min\u001b[39;00m events\u001b[39m.\u001b[39mitems():\n\u001b[1;32m    105\u001b[0m         events[ev_type] \u001b[39m=\u001b[39m pd\u001b[39m.\u001b[39mDataFrame(evs)\n",
      "File \u001b[0;32m~/anaconda3/envs/xGNetworkAnalysis-ENV01/lib/python3.8/site-packages/statsbombpy/helpers.py:28\u001b[0m, in \u001b[0;36mfilter_and_group_events\u001b[0;34m(events, filters, fmt, flatten_attrs)\u001b[0m\n\u001b[1;32m     26\u001b[0m events_ \u001b[39m=\u001b[39m defaultdict(\u001b[39mlist\u001b[39m)\n\u001b[1;32m     27\u001b[0m \u001b[39mfor\u001b[39;00m ev \u001b[39min\u001b[39;00m events\u001b[39m.\u001b[39mvalues():\n\u001b[0;32m---> 28\u001b[0m     ev_type \u001b[39m=\u001b[39m pluralize(ev[\u001b[39m\"\u001b[39;49m\u001b[39mtype\u001b[39;49m\u001b[39m\"\u001b[39;49m][\u001b[39m\"\u001b[39;49m\u001b[39mname\u001b[39;49m\u001b[39m\"\u001b[39;49m])\n\u001b[1;32m     29\u001b[0m     \u001b[39mif\u001b[39;00m \u001b[39mnot\u001b[39;00m is_relevant(ev, filters):\n\u001b[1;32m     30\u001b[0m         \u001b[39mcontinue\u001b[39;00m\n",
      "File \u001b[0;32m~/.local/lib/python3.8/site-packages/joblib/memory.py:594\u001b[0m, in \u001b[0;36mMemorizedFunc.__call__\u001b[0;34m(self, *args, **kwargs)\u001b[0m\n\u001b[1;32m    593\u001b[0m \u001b[39mdef\u001b[39;00m \u001b[39m__call__\u001b[39m(\u001b[39mself\u001b[39m, \u001b[39m*\u001b[39margs, \u001b[39m*\u001b[39m\u001b[39m*\u001b[39mkwargs):\n\u001b[0;32m--> 594\u001b[0m     \u001b[39mreturn\u001b[39;00m \u001b[39mself\u001b[39;49m\u001b[39m.\u001b[39;49m_cached_call(args, kwargs)[\u001b[39m0\u001b[39m]\n",
      "File \u001b[0;32m~/.local/lib/python3.8/site-packages/joblib/memory.py:516\u001b[0m, in \u001b[0;36mMemorizedFunc._cached_call\u001b[0;34m(self, args, kwargs, shelving)\u001b[0m\n\u001b[1;32m    510\u001b[0m     msg \u001b[39m=\u001b[39m _format_load_msg(func_id, args_id,\n\u001b[1;32m    511\u001b[0m                            timestamp\u001b[39m=\u001b[39m\u001b[39mself\u001b[39m\u001b[39m.\u001b[39mtimestamp,\n\u001b[1;32m    512\u001b[0m                            metadata\u001b[39m=\u001b[39mmetadata)\n\u001b[1;32m    514\u001b[0m \u001b[39mif\u001b[39;00m \u001b[39mnot\u001b[39;00m shelving:\n\u001b[1;32m    515\u001b[0m     \u001b[39m# When shelving, we do not need to load the output\u001b[39;00m\n\u001b[0;32m--> 516\u001b[0m     out \u001b[39m=\u001b[39m \u001b[39mself\u001b[39;49m\u001b[39m.\u001b[39;49mstore_backend\u001b[39m.\u001b[39;49mload_item(\n\u001b[1;32m    517\u001b[0m         [func_id, args_id],\n\u001b[1;32m    518\u001b[0m         msg\u001b[39m=\u001b[39;49mmsg,\n\u001b[1;32m    519\u001b[0m         verbose\u001b[39m=\u001b[39;49m\u001b[39mself\u001b[39;49m\u001b[39m.\u001b[39;49m_verbose)\n\u001b[1;32m    520\u001b[0m \u001b[39melse\u001b[39;00m:\n\u001b[1;32m    521\u001b[0m     out \u001b[39m=\u001b[39m \u001b[39mNone\u001b[39;00m\n",
      "File \u001b[0;32m~/.local/lib/python3.8/site-packages/joblib/_store_backends.py:169\u001b[0m, in \u001b[0;36mStoreBackendMixin.load_item\u001b[0;34m(self, path, verbose, msg)\u001b[0m\n\u001b[1;32m    167\u001b[0m \u001b[39m# file-like object cannot be used when mmap_mode is set\u001b[39;00m\n\u001b[1;32m    168\u001b[0m \u001b[39mif\u001b[39;00m mmap_mode \u001b[39mis\u001b[39;00m \u001b[39mNone\u001b[39;00m:\n\u001b[0;32m--> 169\u001b[0m     \u001b[39mwith\u001b[39;00m \u001b[39mself\u001b[39m\u001b[39m.\u001b[39m_open_item(filename, \u001b[39m\"\u001b[39m\u001b[39mrb\u001b[39m\u001b[39m\"\u001b[39m) \u001b[39mas\u001b[39;00m f:\n\u001b[1;32m    170\u001b[0m         item \u001b[39m=\u001b[39m numpy_pickle\u001b[39m.\u001b[39mload(f)\n\u001b[1;32m    171\u001b[0m \u001b[39melse\u001b[39;00m:\n",
      "\u001b[0;31mKeyboardInterrupt\u001b[0m: "
     ]
    }
   ],
   "source": [
    "fx.SplitAllGames(7, match_ids, \"testing.csv\")"
   ]
  },
  {
   "cell_type": "code",
   "execution_count": null,
   "metadata": {},
   "outputs": [],
   "source": []
  }
 ],
 "metadata": {
  "kernelspec": {
   "display_name": "Python 3.8.5 64-bit",
   "language": "python",
   "name": "python3"
  },
  "language_info": {
   "codemirror_mode": {
    "name": "ipython",
    "version": 3
   },
   "file_extension": ".py",
   "mimetype": "text/x-python",
   "name": "python",
   "nbconvert_exporter": "python",
   "pygments_lexer": "ipython3",
   "version": "3.8.5"
  },
  "orig_nbformat": 4,
  "vscode": {
   "interpreter": {
    "hash": "81495d95d7868ba7fea481b0d6568828071020440ac46d3d7df9035f6d939d3b"
   }
  }
 },
 "nbformat": 4,
 "nbformat_minor": 2
}
